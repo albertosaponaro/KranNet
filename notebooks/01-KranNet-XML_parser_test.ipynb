{
 "cells": [
  {
   "cell_type": "markdown",
   "metadata": {},
   "source": [
    "# XML Parser Test"
   ]
  },
  {
   "cell_type": "code",
   "execution_count": 2,
   "metadata": {},
   "outputs": [],
   "source": [
    "from lxml import etree\n",
    "\n",
    "tree = etree.parse('../datasets/Kranjska-xml/Corpus-Kranjska.xml')\n",
    "tree.xinclude()\n",
    "root = tree.getroot()"
   ]
  },
  {
   "cell_type": "markdown",
   "metadata": {},
   "source": [
    "This is a small test to see if we can traverse the DOM. We count the number of meetings in year 1895.\n",
    "\n",
    "DOC: https://lxml.de/tutorial.html#parsing-from-strings-and-files"
   ]
  },
  {
   "cell_type": "code",
   "execution_count": 33,
   "metadata": {},
   "outputs": [],
   "source": [
    "# Function to strip namespace from tag\n",
    "def strip_namespace(tag):\n",
    "    return tag.split('}')[-1] if '}' in tag else tag\n",
    "\n",
    "# Travers the DOM tree recursively\n",
    "def traverse_tree(element, meetings_count):\n",
    "    \n",
    "    # TODO - save elements we want to save else continue the traverse\n",
    "    if strip_namespace(element.tag) == 'meeting':\n",
    "            \n",
    "            #select the year\n",
    "            if element.text is not None and element.text[-5:-1] == '1895':\n",
    "                # count number of meetings\n",
    "                meetings_count[0] +=1\n",
    "    \n",
    "    for child in element:\n",
    "        traverse_tree(child, meetings_count)\n"
   ]
  },
  {
   "cell_type": "code",
   "execution_count": 34,
   "metadata": {},
   "outputs": [
    {
     "data": {
      "text/plain": [
       "31"
      ]
     },
     "execution_count": 34,
     "metadata": {},
     "output_type": "execute_result"
    }
   ],
   "source": [
    "meetings_count = [0]\n",
    "traverse_tree(root, meetings_count)\n",
    "meetings_count[0]\n",
    "    "
   ]
  }
 ],
 "metadata": {
  "kernelspec": {
   "display_name": "Python 3",
   "language": "python",
   "name": "python3"
  },
  "language_info": {
   "codemirror_mode": {
    "name": "ipython",
    "version": 3
   },
   "file_extension": ".py",
   "mimetype": "text/x-python",
   "name": "python",
   "nbconvert_exporter": "python",
   "pygments_lexer": "ipython3",
   "version": "3.12.3"
  }
 },
 "nbformat": 4,
 "nbformat_minor": 2
}

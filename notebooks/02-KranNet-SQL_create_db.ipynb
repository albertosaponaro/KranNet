{
 "cells": [
  {
   "cell_type": "code",
   "execution_count": 1,
   "metadata": {},
   "outputs": [],
   "source": [
    "import psycopg2\n",
    "from psycopg2 import sql\n",
    "import pandas as pd"
   ]
  },
  {
   "cell_type": "code",
   "execution_count": 2,
   "metadata": {},
   "outputs": [],
   "source": [
    "def create_db(dbname):\n",
    "    try:\n",
    "        # Connect to your PostgreSQL database\n",
    "        connection = psycopg2.connect(\n",
    "            database='postgres',\n",
    "            user='postgres',\n",
    "            password='password',\n",
    "            host='localhost',\n",
    "            port='5432'\n",
    "        )\n",
    "        \n",
    "        connection.autocommit = True\n",
    "        cursor = connection.cursor()\n",
    "        \n",
    "        # Create database using psycopg2.sql to safely construct the SQL statement\n",
    "        cursor.execute(sql.SQL(\"CREATE DATABASE {}\").format(sql.Identifier(dbname)))\n",
    "        \n",
    "        print(f\"Database {dbname} created successfully.\")\n",
    "\n",
    "    except Exception as e:\n",
    "        print(f\"Operation failed: {e}\")\n",
    "\n",
    "    finally:\n",
    "        if cursor:\n",
    "            cursor.close()\n",
    "        if connection:\n",
    "            connection.close()\n",
    "\n",
    "def drop_db(dbname):\n",
    "    try:\n",
    "        # Connect to your PostgreSQL database\n",
    "        connection = psycopg2.connect(\n",
    "            database='postgres',\n",
    "            user='postgres',\n",
    "            password='password',\n",
    "            host='localhost',\n",
    "            port='5432'\n",
    "        )\n",
    "        \n",
    "        connection.autocommit = True\n",
    "        cursor = connection.cursor()\n",
    "        \n",
    "        # Create database using psycopg2.sql to safely construct the SQL statement\n",
    "        cursor.execute(sql.SQL(\"DROP DATABASE {}\").format(sql.Identifier(dbname)))\n",
    "        \n",
    "        print(f\"Database {dbname} dropped successfully.\")\n",
    "\n",
    "    except Exception as e:\n",
    "        print(f\"Operation failed: {e}\")\n",
    "\n",
    "    finally:\n",
    "        if cursor:\n",
    "            cursor.close()\n",
    "        if connection:\n",
    "            connection.close()\n",
    "\n",
    "def transition(query, params=None, dbname='krannet'):\n",
    "    try:\n",
    "        # Connect to your PostgreSQL database\n",
    "        connection = psycopg2.connect(\n",
    "        database=dbname,\n",
    "        user='postgres',\n",
    "        password='password',\n",
    "        host='localhost',\n",
    "        port= '5432')\n",
    "        \n",
    "        cursor = connection.cursor()\n",
    "\n",
    "        # Transition\n",
    "        cursor.execute(sql.SQL('BEGIN'))\n",
    "\n",
    "        if not params:\n",
    "            cursor.execute(sql.SQL(query))\n",
    "        else: \n",
    "            cursor.execute(sql.SQL(query), params)\n",
    "        \n",
    "        # Commit transition\n",
    "        connection.commit()\n",
    "\n",
    "        print(\"Transaction committed successfully.\")\n",
    "\n",
    "    except Exception as e:\n",
    "        connection.rollback()\n",
    "        print(f\"Transaction failed: {e}\")\n",
    "\n",
    "    finally:\n",
    "        if cursor:\n",
    "            cursor.close()\n",
    "        if connection:\n",
    "            connection.close()\n",
    "\n",
    "def fetch_table_data(table_name, dbname='krannet'):\n",
    "    try:\n",
    "        # Connect to your PostgreSQL database\n",
    "        connection = psycopg2.connect(\n",
    "        database=dbname,\n",
    "        user='postgres',\n",
    "        password='password',\n",
    "        host='localhost',\n",
    "        port= '5432')\n",
    "        \n",
    "        # Fetch data using pandas\n",
    "        query = f\"SELECT * FROM {table_name}\"\n",
    "        df = pd.read_sql_query(query, connection)\n",
    "        \n",
    "        return df\n",
    "\n",
    "    except Exception as e:\n",
    "        print(f\"Failed to fetch data: {e}\")\n",
    "        return None\n",
    "\n",
    "    finally:\n",
    "        if connection:\n",
    "            connection.close()\n",
    "\n",
    "def fetch_data(query, dbname='krannet'):\n",
    "    try:\n",
    "        # Connect to your PostgreSQL database\n",
    "        connection = psycopg2.connect(\n",
    "        database=dbname,\n",
    "        user='postgres',\n",
    "        password='password',\n",
    "        host='localhost',\n",
    "        port= '5432')\n",
    "        \n",
    "        # Fetch data using pandas\n",
    "        df = pd.read_sql_query(query, connection)\n",
    "        \n",
    "        return df\n",
    "\n",
    "    except Exception as e:\n",
    "        print(f\"Failed to fetch data: {e}\")\n",
    "        return None\n",
    "\n",
    "    finally:\n",
    "        if connection:\n",
    "            connection.close()"
   ]
  },
  {
   "cell_type": "markdown",
   "metadata": {},
   "source": [
    "Some usefull SQL prommt:\n",
    "- `CREATE database <db_name>`\n",
    "- `DROP database <db_name>`"
   ]
  },
  {
   "cell_type": "code",
   "execution_count": 3,
   "metadata": {},
   "outputs": [
    {
     "name": "stdout",
     "output_type": "stream",
     "text": [
      "Database krannet dropped successfully.\n"
     ]
    }
   ],
   "source": [
    "# Env Variables\n",
    "DB_NAME = 'krannet'\n",
    "\n",
    "# Drop DB\n",
    "drop_db(DB_NAME)"
   ]
  },
  {
   "cell_type": "markdown",
   "metadata": {},
   "source": [
    "## Create DB"
   ]
  },
  {
   "cell_type": "code",
   "execution_count": 4,
   "metadata": {},
   "outputs": [
    {
     "name": "stdout",
     "output_type": "stream",
     "text": [
      "Database krannet created successfully.\n"
     ]
    }
   ],
   "source": [
    "# Env Variables\n",
    "DB_NAME = 'krannet'\n",
    "\n",
    "# Create DB\n",
    "create_db(DB_NAME)"
   ]
  },
  {
   "cell_type": "markdown",
   "metadata": {},
   "source": [
    "## Create Tables"
   ]
  },
  {
   "cell_type": "code",
   "execution_count": 5,
   "metadata": {},
   "outputs": [
    {
     "name": "stdout",
     "output_type": "stream",
     "text": [
      "Transaction committed successfully.\n",
      "Transaction committed successfully.\n"
     ]
    }
   ],
   "source": [
    "# SQL queries to create the tables\n",
    "create_meeting_table = \"\"\"\n",
    "CREATE TABLE IF NOT EXISTS meeting_table (\n",
    "    meeting_id SERIAL PRIMARY KEY,\n",
    "    title VARCHAR(100) NOT NULL,\n",
    "    year INT NOT NULL\n",
    ");\n",
    "\"\"\"\n",
    "\n",
    "create_speaker_table = \"\"\"\n",
    "CREATE TABLE IF NOT EXISTS speaker_table (\n",
    "    speaker_id SERIAL PRIMARY KEY,\n",
    "    meeting_id INT NOT NULL,\n",
    "    speaker_name VARCHAR(50) NOT NULL,\n",
    "    interventions SMALLINT NOT NULL,\n",
    "    FOREIGN KEY (meeting_id) REFERENCES meeting_table(meeting_id)\n",
    ");\n",
    "\"\"\"\n",
    "\n",
    "# Execute the transition function to create the tables\n",
    "transition(create_meeting_table)\n",
    "transition(create_speaker_table)"
   ]
  },
  {
   "cell_type": "code",
   "execution_count": 6,
   "metadata": {},
   "outputs": [
    {
     "name": "stdout",
     "output_type": "stream",
     "text": [
      "Transaction committed successfully.\n",
      "Transaction committed successfully.\n",
      "Transaction committed successfully.\n",
      "Transaction committed successfully.\n",
      "Transaction committed successfully.\n",
      "Transaction committed successfully.\n"
     ]
    }
   ],
   "source": [
    "# insert data into outher_table\n",
    "\n",
    "meeting_id = 0\n",
    "titles = ['meeting1', 'meeting2']\n",
    "years = [1990, 1990]\n",
    "\n",
    "for t, y in zip(titles, years):\n",
    "    query = 'INSERT INTO meeting_table (title, year) VALUES (%s, %s)'\n",
    "    params = (t, y)\n",
    "    transition(query, params)\n",
    "\n",
    "\n",
    "    # insert data into speaker_table\n",
    "    meeting_id += 1\n",
    "    speakers = ['President', 'Alberto']\n",
    "    interventions = [30, 22]\n",
    "\n",
    "    for s, i in zip(speakers, interventions):\n",
    "        query = 'INSERT INTO speaker_table (meeting_id, speaker_name, interventions) VALUES (%s, %s, %s)'\n",
    "        params = (meeting_id, s, i)\n",
    "        transition(query, params)"
   ]
  },
  {
   "cell_type": "code",
   "execution_count": 7,
   "metadata": {},
   "outputs": [
    {
     "name": "stderr",
     "output_type": "stream",
     "text": [
      "/var/folders/nv/ljsvt6pd7v526ds10294vq_w00011d/T/ipykernel_88124/1521635581.py:104: UserWarning: pandas only supports SQLAlchemy connectable (engine/connection) or database string URI or sqlite3 DBAPI2 connection. Other DBAPI2 objects are not tested. Please consider using SQLAlchemy.\n",
      "  df = pd.read_sql_query(query, connection)\n"
     ]
    },
    {
     "data": {
      "text/html": [
       "<div>\n",
       "<style scoped>\n",
       "    .dataframe tbody tr th:only-of-type {\n",
       "        vertical-align: middle;\n",
       "    }\n",
       "\n",
       "    .dataframe tbody tr th {\n",
       "        vertical-align: top;\n",
       "    }\n",
       "\n",
       "    .dataframe thead th {\n",
       "        text-align: right;\n",
       "    }\n",
       "</style>\n",
       "<table border=\"1\" class=\"dataframe\">\n",
       "  <thead>\n",
       "    <tr style=\"text-align: right;\">\n",
       "      <th></th>\n",
       "      <th>meeting_id</th>\n",
       "      <th>title</th>\n",
       "      <th>year</th>\n",
       "    </tr>\n",
       "  </thead>\n",
       "  <tbody>\n",
       "    <tr>\n",
       "      <th>0</th>\n",
       "      <td>1</td>\n",
       "      <td>meeting1</td>\n",
       "      <td>1990</td>\n",
       "    </tr>\n",
       "    <tr>\n",
       "      <th>1</th>\n",
       "      <td>2</td>\n",
       "      <td>meeting2</td>\n",
       "      <td>1990</td>\n",
       "    </tr>\n",
       "  </tbody>\n",
       "</table>\n",
       "</div>"
      ],
      "text/plain": [
       "   meeting_id     title  year\n",
       "0           1  meeting1  1990\n",
       "1           2  meeting2  1990"
      ]
     },
     "execution_count": 7,
     "metadata": {},
     "output_type": "execute_result"
    }
   ],
   "source": [
    "df = fetch_table_data(table_name='meeting_table')\n",
    "df.head()"
   ]
  },
  {
   "cell_type": "code",
   "execution_count": 8,
   "metadata": {},
   "outputs": [
    {
     "name": "stderr",
     "output_type": "stream",
     "text": [
      "/var/folders/nv/ljsvt6pd7v526ds10294vq_w00011d/T/ipykernel_88124/1521635581.py:104: UserWarning: pandas only supports SQLAlchemy connectable (engine/connection) or database string URI or sqlite3 DBAPI2 connection. Other DBAPI2 objects are not tested. Please consider using SQLAlchemy.\n",
      "  df = pd.read_sql_query(query, connection)\n"
     ]
    },
    {
     "data": {
      "text/html": [
       "<div>\n",
       "<style scoped>\n",
       "    .dataframe tbody tr th:only-of-type {\n",
       "        vertical-align: middle;\n",
       "    }\n",
       "\n",
       "    .dataframe tbody tr th {\n",
       "        vertical-align: top;\n",
       "    }\n",
       "\n",
       "    .dataframe thead th {\n",
       "        text-align: right;\n",
       "    }\n",
       "</style>\n",
       "<table border=\"1\" class=\"dataframe\">\n",
       "  <thead>\n",
       "    <tr style=\"text-align: right;\">\n",
       "      <th></th>\n",
       "      <th>speaker_id</th>\n",
       "      <th>meeting_id</th>\n",
       "      <th>speaker_name</th>\n",
       "      <th>interventions</th>\n",
       "    </tr>\n",
       "  </thead>\n",
       "  <tbody>\n",
       "    <tr>\n",
       "      <th>0</th>\n",
       "      <td>1</td>\n",
       "      <td>1</td>\n",
       "      <td>President</td>\n",
       "      <td>30</td>\n",
       "    </tr>\n",
       "    <tr>\n",
       "      <th>1</th>\n",
       "      <td>2</td>\n",
       "      <td>1</td>\n",
       "      <td>Alberto</td>\n",
       "      <td>22</td>\n",
       "    </tr>\n",
       "    <tr>\n",
       "      <th>2</th>\n",
       "      <td>3</td>\n",
       "      <td>2</td>\n",
       "      <td>President</td>\n",
       "      <td>30</td>\n",
       "    </tr>\n",
       "    <tr>\n",
       "      <th>3</th>\n",
       "      <td>4</td>\n",
       "      <td>2</td>\n",
       "      <td>Alberto</td>\n",
       "      <td>22</td>\n",
       "    </tr>\n",
       "  </tbody>\n",
       "</table>\n",
       "</div>"
      ],
      "text/plain": [
       "   speaker_id  meeting_id speaker_name  interventions\n",
       "0           1           1    President             30\n",
       "1           2           1      Alberto             22\n",
       "2           3           2    President             30\n",
       "3           4           2      Alberto             22"
      ]
     },
     "execution_count": 8,
     "metadata": {},
     "output_type": "execute_result"
    }
   ],
   "source": [
    "df = fetch_table_data(table_name='speaker_table')\n",
    "df.head()"
   ]
  },
  {
   "cell_type": "code",
   "execution_count": 10,
   "metadata": {},
   "outputs": [
    {
     "ename": "ValueError",
     "evalue": "not enough values to unpack (expected 3, got 2)",
     "output_type": "error",
     "traceback": [
      "\u001b[0;31m---------------------------------------------------------------------------\u001b[0m",
      "\u001b[0;31mValueError\u001b[0m                                Traceback (most recent call last)",
      "Cell \u001b[0;32mIn[10], line 8\u001b[0m\n\u001b[1;32m      5\u001b[0m speakers \u001b[38;5;241m=\u001b[39m [\u001b[38;5;124m'\u001b[39m\u001b[38;5;124mPresident\u001b[39m\u001b[38;5;124m'\u001b[39m, \u001b[38;5;124m'\u001b[39m\u001b[38;5;124mAlberto\u001b[39m\u001b[38;5;124m'\u001b[39m]\n\u001b[1;32m      6\u001b[0m interventions \u001b[38;5;241m=\u001b[39m [\u001b[38;5;241m30\u001b[39m, \u001b[38;5;241m22\u001b[39m]\n\u001b[0;32m----> 8\u001b[0m \u001b[38;5;28;01mfor\u001b[39;00m oid,s,i \u001b[38;5;129;01min\u001b[39;00m \u001b[38;5;28mzip\u001b[39m(speakers, interventions):\n\u001b[1;32m      9\u001b[0m     query \u001b[38;5;241m=\u001b[39m \u001b[38;5;124m'\u001b[39m\u001b[38;5;124mINSERT INTO inner_table (speaker, interventions) VALUES (\u001b[39m\u001b[38;5;132;01m%s\u001b[39;00m\u001b[38;5;124m, \u001b[39m\u001b[38;5;132;01m%s\u001b[39;00m\u001b[38;5;124m)\u001b[39m\u001b[38;5;124m'\u001b[39m\n\u001b[1;32m     10\u001b[0m     params \u001b[38;5;241m=\u001b[39m (oid, s, i)\n",
      "\u001b[0;31mValueError\u001b[0m: not enough values to unpack (expected 3, got 2)"
     ]
    }
   ],
   "source": [
    "# insert data into inner_table\n",
    "# id from outer_table to connect inner_table\n",
    "\n",
    "inner_ids = [1, 2] \n",
    "speakers = ['President', 'Alberto']\n",
    "interventions = [30, 22]\n",
    "\n",
    "for oid,s,i in zip(speakers, interventions):\n",
    "    query = 'INSERT INTO inner_table (speaker, interventions) VALUES (%s, %s)'\n",
    "    params = (oid, s, i)\n",
    "    \n",
    "    transition(query, params)\n",
    "\n",
    "\n",
    "df = fetch_table_data(table_name='inner_table')\n",
    "df.head()"
   ]
  },
  {
   "cell_type": "markdown",
   "metadata": {},
   "source": [
    "## Access data"
   ]
  },
  {
   "cell_type": "code",
   "execution_count": null,
   "metadata": {},
   "outputs": [],
   "source": [
    "query = \"\"\"\n",
    "SELECT DISTINCT\n",
    "    o.outer_id AS meeting_id,\n",
    "    o.year AS year,\n",
    "    i.speaker\n",
    "FROM \n",
    "    outer_table o\n",
    "JOIN \n",
    "    inner_table i ON o.outer_ID = i.inner_ID\n",
    "WHERE \n",
    "    o.year = '1990';\n",
    "\"\"\"\n",
    "\n",
    "df = fetch_data(query)\n",
    "df.head()\n"
   ]
  }
 ],
 "metadata": {
  "kernelspec": {
   "display_name": ".venv",
   "language": "python",
   "name": "python3"
  },
  "language_info": {
   "codemirror_mode": {
    "name": "ipython",
    "version": 3
   },
   "file_extension": ".py",
   "mimetype": "text/x-python",
   "name": "python",
   "nbconvert_exporter": "python",
   "pygments_lexer": "ipython3",
   "version": "3.12.3"
  }
 },
 "nbformat": 4,
 "nbformat_minor": 2
}

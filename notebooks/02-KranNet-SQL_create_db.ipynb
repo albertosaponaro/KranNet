{
 "cells": [
  {
   "cell_type": "code",
   "execution_count": 1,
   "metadata": {},
   "outputs": [],
   "source": [
    "import psycopg2"
   ]
  },
  {
   "cell_type": "code",
   "execution_count": 5,
   "metadata": {},
   "outputs": [
    {
     "ename": "DuplicateDatabase",
     "evalue": "database \"products\" already exists\n",
     "output_type": "error",
     "traceback": [
      "\u001b[0;31m---------------------------------------------------------------------------\u001b[0m",
      "\u001b[0;31mDuplicateDatabase\u001b[0m                         Traceback (most recent call last)",
      "Cell \u001b[0;32mIn[5], line 19\u001b[0m\n\u001b[1;32m     16\u001b[0m sql \u001b[38;5;241m=\u001b[39m \u001b[38;5;124m'''\u001b[39m\u001b[38;5;124m CREATE database products \u001b[39m\u001b[38;5;124m'''\u001b[39m;\n\u001b[1;32m     18\u001b[0m \u001b[38;5;66;03m# executing above query\u001b[39;00m\n\u001b[0;32m---> 19\u001b[0m \u001b[43mcursor\u001b[49m\u001b[38;5;241;43m.\u001b[39;49m\u001b[43mexecute\u001b[49m\u001b[43m(\u001b[49m\u001b[43msql\u001b[49m\u001b[43m)\u001b[49m\n\u001b[1;32m     20\u001b[0m \u001b[38;5;28mprint\u001b[39m(\u001b[38;5;124m\"\u001b[39m\u001b[38;5;124mDatabase has been created successfully !!\u001b[39m\u001b[38;5;124m\"\u001b[39m);\n\u001b[1;32m     22\u001b[0m \u001b[38;5;66;03m# Closing the connection\u001b[39;00m\n",
      "\u001b[0;31mDuplicateDatabase\u001b[0m: database \"products\" already exists\n"
     ]
    }
   ],
   "source": [
    "# connection establishment\n",
    "# connects to the standard postgress user\n",
    "conn = psycopg2.connect(\n",
    "   database=\"postgres\",\n",
    "    user='postgres',\n",
    "    password='password',\n",
    "    host='localhost',\n",
    "    port= '5432'\n",
    ")\n",
    " \n",
    "conn.autocommit = True\n",
    " \n",
    "# Creating a cursor object\n",
    "cursor = conn.cursor()\n",
    " \n",
    "# query to create a database \n",
    "sql = ''' CREATE database products ''';\n",
    " \n",
    "# executing above query\n",
    "cursor.execute(sql)\n",
    "print(\"Database has been created successfully !!\");\n",
    " \n",
    "# Closing the connection\n",
    "conn.close()"
   ]
  }
 ],
 "metadata": {
  "kernelspec": {
   "display_name": ".venv",
   "language": "python",
   "name": "python3"
  },
  "language_info": {
   "codemirror_mode": {
    "name": "ipython",
    "version": 3
   },
   "file_extension": ".py",
   "mimetype": "text/x-python",
   "name": "python",
   "nbconvert_exporter": "python",
   "pygments_lexer": "ipython3",
   "version": "3.12.3"
  }
 },
 "nbformat": 4,
 "nbformat_minor": 2
}

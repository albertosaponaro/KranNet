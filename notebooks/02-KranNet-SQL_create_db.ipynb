{
 "cells": [
  {
   "cell_type": "code",
   "execution_count": 1,
   "metadata": {},
   "outputs": [],
   "source": [
    "import psycopg2"
   ]
  },
  {
   "cell_type": "markdown",
   "metadata": {},
   "source": [
    "Some usefull SQL prommt:\n",
    "- `CREATE database <db_name>`\n",
    "- `DROP database <db_name>`"
   ]
  },
  {
   "cell_type": "code",
   "execution_count": 2,
   "metadata": {},
   "outputs": [],
   "source": [
    "# Env Variables\n",
    "DB_NAME = 'krannet'"
   ]
  },
  {
   "cell_type": "code",
   "execution_count": 3,
   "metadata": {},
   "outputs": [],
   "source": [
    "# connection establishment\n",
    "# connects to the standard postgress user\n",
    "conn = psycopg2.connect(\n",
    "   database=\"postgres\",\n",
    "    user='postgres',\n",
    "    password='password',\n",
    "    host='localhost',\n",
    "    port= '5432'\n",
    ")\n",
    " \n",
    "conn.autocommit = True\n",
    " \n",
    "# Creating a cursor object\n",
    "cursor = conn.cursor()\n"
   ]
  },
  {
   "cell_type": "code",
   "execution_count": 4,
   "metadata": {},
   "outputs": [
    {
     "ename": "DuplicateDatabase",
     "evalue": "database \"krannet\" already exists\n",
     "output_type": "error",
     "traceback": [
      "\u001b[0;31m---------------------------------------------------------------------------\u001b[0m",
      "\u001b[0;31mDuplicateDatabase\u001b[0m                         Traceback (most recent call last)",
      "Cell \u001b[0;32mIn[4], line 2\u001b[0m\n\u001b[1;32m      1\u001b[0m \u001b[38;5;66;03m# Creates DB\u001b[39;00m\n\u001b[0;32m----> 2\u001b[0m \u001b[43mcursor\u001b[49m\u001b[38;5;241;43m.\u001b[39;49m\u001b[43mexecute\u001b[49m\u001b[43m(\u001b[49m\u001b[38;5;124;43mf\u001b[39;49m\u001b[38;5;124;43m'\u001b[39;49m\u001b[38;5;124;43mCREATE DATABASE \u001b[39;49m\u001b[38;5;132;43;01m{\u001b[39;49;00m\u001b[43mDB_NAME\u001b[49m\u001b[38;5;132;43;01m}\u001b[39;49;00m\u001b[38;5;124;43m'\u001b[39;49m\u001b[43m)\u001b[49m\n\u001b[1;32m      3\u001b[0m \u001b[38;5;28mprint\u001b[39m(\u001b[38;5;124mf\u001b[39m\u001b[38;5;124m\"\u001b[39m\u001b[38;5;124mDatabase \u001b[39m\u001b[38;5;124m'\u001b[39m\u001b[38;5;132;01m{\u001b[39;00mDB_NAME\u001b[38;5;132;01m}\u001b[39;00m\u001b[38;5;124m'\u001b[39m\u001b[38;5;124m has been created successfully !!\u001b[39m\u001b[38;5;124m\"\u001b[39m);\n",
      "\u001b[0;31mDuplicateDatabase\u001b[0m: database \"krannet\" already exists\n"
     ]
    }
   ],
   "source": [
    " # Creates DB\n",
    "cursor.execute(f'CREATE DATABASE {DB_NAME}')\n",
    "print(f\"Database '{DB_NAME}' has been created successfully !!\");\n"
   ]
  },
  {
   "cell_type": "code",
   "execution_count": 5,
   "metadata": {},
   "outputs": [],
   "source": [
    "# Closing the connection\n",
    "conn.close()"
   ]
  },
  {
   "cell_type": "markdown",
   "metadata": {},
   "source": [
    "____"
   ]
  },
  {
   "cell_type": "code",
   "execution_count": 6,
   "metadata": {},
   "outputs": [],
   "source": [
    "# connection establishment\n",
    "conn = psycopg2.connect(\n",
    "   database=DB_NAME,\n",
    "    user='postgres',\n",
    "    password='password',\n",
    "    host='localhost',\n",
    "    port= '5432'\n",
    ")\n",
    "\n",
    "# Creating a cursor object\n",
    "cursor = conn.cursor()"
   ]
  },
  {
   "cell_type": "code",
   "execution_count": 7,
   "metadata": {},
   "outputs": [],
   "source": [
    "# create structure outer table with the meeting title and year\n",
    "\n",
    "create_outer_table = f\"\"\" \n",
    "CREATE TABLE IF NOT EXISTS outer_table (\n",
    "id SERIAL PRIMARY KEY,\n",
    "title VARCHAR NOT NULL,\n",
    "year CHAR(4)\n",
    ")\n",
    "\"\"\"\n",
    "\n"
   ]
  },
  {
   "cell_type": "code",
   "execution_count": 8,
   "metadata": {},
   "outputs": [],
   "source": [
    "# create inner table with speaker and n. of interventions\n",
    "\n",
    "create_inner_table = f\"\"\" \n",
    "CREATE TABLE IF NOT EXISTS outer_table (\n",
    "id SERIAL PRIMARY KEY,\n",
    "speaker VARCHAR(50) NOT NULL,\n",
    "interventions SMALLINT NOT NULL\n",
    ")\n",
    "\"\"\""
   ]
  },
  {
   "cell_type": "code",
   "execution_count": 9,
   "metadata": {},
   "outputs": [],
   "source": [
    "# create outer table\n",
    "cursor.execute(create_outer_table)\n",
    "conn.commit()"
   ]
  },
  {
   "cell_type": "code",
   "execution_count": null,
   "metadata": {},
   "outputs": [],
   "source": [
    "cursor.execute('SELECT * FROM outer_table')"
   ]
  },
  {
   "cell_type": "code",
   "execution_count": null,
   "metadata": {},
   "outputs": [],
   "source": [
    "#conn.rollback()\n",
    "\n",
    "# Variables to insert\n",
    "title = 'meeting1'\n",
    "year = 1990\n",
    "\n",
    "# Parameterized query\n",
    "cursor.execute('INSERT INTO outer_table (title, year) VALUES (%s, %s)', (title, year))\n",
    "conn.commit()\n"
   ]
  },
  {
   "cell_type": "code",
   "execution_count": 10,
   "metadata": {},
   "outputs": [
    {
     "data": {
      "text/plain": [
       "[(4, 'meeting1', '1990')]"
      ]
     },
     "execution_count": 10,
     "metadata": {},
     "output_type": "execute_result"
    }
   ],
   "source": [
    "cursor.execute('SELECT * FROM outer_table')\n",
    "rows = cursor.fetchall()\n",
    "\n",
    "rows\n",
    "\n",
    "\n",
    "\n"
   ]
  },
  {
   "cell_type": "code",
   "execution_count": null,
   "metadata": {},
   "outputs": [],
   "source": [
    "conn.rollback()\n",
    "# Drop DB\n",
    "# TODO how to drop the table?!\n",
    "#cursor.execute(f'DROP TABLE outer_table')\n",
    "#print(f\"Table 'outher_table' has been dropped successfully !!\");\n",
    "\n",
    "\n",
    "conn.close()"
   ]
  },
  {
   "cell_type": "markdown",
   "metadata": {},
   "source": [
    "___"
   ]
  },
  {
   "cell_type": "code",
   "execution_count": null,
   "metadata": {},
   "outputs": [],
   "source": [
    "# Drop DB\n",
    "cursor.execute(f'DROP DATABASE {DB_NAME}')\n",
    "print(f\"Database '{DB_NAME}' has been dropped successfully !!\");"
   ]
  },
  {
   "cell_type": "code",
   "execution_count": null,
   "metadata": {},
   "outputs": [],
   "source": [
    "# Closing the connection\n",
    "conn.close()"
   ]
  }
 ],
 "metadata": {
  "kernelspec": {
   "display_name": ".venv",
   "language": "python",
   "name": "python3"
  },
  "language_info": {
   "codemirror_mode": {
    "name": "ipython",
    "version": 3
   },
   "file_extension": ".py",
   "mimetype": "text/x-python",
   "name": "python",
   "nbconvert_exporter": "python",
   "pygments_lexer": "ipython3",
   "version": "3.12.3"
  }
 },
 "nbformat": 4,
 "nbformat_minor": 2
}

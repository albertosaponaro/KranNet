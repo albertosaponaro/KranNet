{
 "cells": [
  {
   "cell_type": "code",
   "execution_count": 29,
   "metadata": {},
   "outputs": [],
   "source": [
    "import psycopg2\n",
    "from psycopg2 import sql\n",
    "import pandas as pd"
   ]
  },
  {
   "cell_type": "code",
   "execution_count": 30,
   "metadata": {},
   "outputs": [],
   "source": [
    "def create_db(dbname):\n",
    "    try:\n",
    "        # Connect to your PostgreSQL database\n",
    "        connection = psycopg2.connect(\n",
    "            database='postgres',\n",
    "            user='postgres',\n",
    "            password='password',\n",
    "            host='localhost',\n",
    "            port='5432'\n",
    "        )\n",
    "        \n",
    "        connection.autocommit = True\n",
    "        cursor = connection.cursor()\n",
    "        \n",
    "        # Create database using psycopg2.sql to safely construct the SQL statement\n",
    "        cursor.execute(sql.SQL(\"CREATE DATABASE {}\").format(sql.Identifier(dbname)))\n",
    "        \n",
    "        print(f\"Database {dbname} created successfully.\")\n",
    "\n",
    "    except Exception as e:\n",
    "        print(f\"Operation failed: {e}\")\n",
    "\n",
    "    finally:\n",
    "        if cursor:\n",
    "            cursor.close()\n",
    "        if connection:\n",
    "            connection.close()\n",
    "\n",
    "def drop_db(dbname):\n",
    "    try:\n",
    "        # Connect to your PostgreSQL database\n",
    "        connection = psycopg2.connect(\n",
    "            database='postgres',\n",
    "            user='postgres',\n",
    "            password='password',\n",
    "            host='localhost',\n",
    "            port='5432'\n",
    "        )\n",
    "        \n",
    "        connection.autocommit = True\n",
    "        cursor = connection.cursor()\n",
    "        \n",
    "        # Create database using psycopg2.sql to safely construct the SQL statement\n",
    "        cursor.execute(sql.SQL(\"DROP DATABASE {}\").format(sql.Identifier(dbname)))\n",
    "        \n",
    "        print(f\"Database {dbname} dropped successfully.\")\n",
    "\n",
    "    except Exception as e:\n",
    "        print(f\"Operation failed: {e}\")\n",
    "\n",
    "    finally:\n",
    "        if cursor:\n",
    "            cursor.close()\n",
    "        if connection:\n",
    "            connection.close()\n",
    "\n",
    "def transition(query, params=None, dbname='krannet'):\n",
    "    try:\n",
    "        # Connect to your PostgreSQL database\n",
    "        connection = psycopg2.connect(\n",
    "        database=dbname,\n",
    "        user='postgres',\n",
    "        password='password',\n",
    "        host='localhost',\n",
    "        port= '5432')\n",
    "        \n",
    "        cursor = connection.cursor()\n",
    "\n",
    "        # Transition\n",
    "        cursor.execute(sql.SQL('BEGIN'))\n",
    "\n",
    "        if not params:\n",
    "            cursor.execute(sql.SQL(query))\n",
    "        else: \n",
    "            cursor.execute(sql.SQL(query), params)\n",
    "        \n",
    "        # Commit transition\n",
    "        connection.commit()\n",
    "\n",
    "        print(\"Transaction committed successfully.\")\n",
    "\n",
    "    except Exception as e:\n",
    "        connection.rollback()\n",
    "        print(f\"Transaction failed: {e}\")\n",
    "\n",
    "    finally:\n",
    "        if cursor:\n",
    "            cursor.close()\n",
    "        if connection:\n",
    "            connection.close()\n",
    "\n",
    "def fetch_table_data(table_name, dbname='krannet'):\n",
    "    try:\n",
    "        # Connect to your PostgreSQL database\n",
    "        connection = psycopg2.connect(\n",
    "        database=dbname,\n",
    "        user='postgres',\n",
    "        password='password',\n",
    "        host='localhost',\n",
    "        port= '5432')\n",
    "        \n",
    "        # Fetch data using pandas\n",
    "        query = f\"SELECT * FROM {table_name}\"\n",
    "        df = pd.read_sql_query(query, connection)\n",
    "        \n",
    "        return df\n",
    "\n",
    "    except Exception as e:\n",
    "        print(f\"Failed to fetch data: {e}\")\n",
    "        return None\n",
    "\n",
    "    finally:\n",
    "        if connection:\n",
    "            connection.close()"
   ]
  },
  {
   "cell_type": "markdown",
   "metadata": {},
   "source": [
    "Some usefull SQL prommt:\n",
    "- `CREATE database <db_name>`\n",
    "- `DROP database <db_name>`"
   ]
  },
  {
   "cell_type": "markdown",
   "metadata": {},
   "source": [
    "## Create DB"
   ]
  },
  {
   "cell_type": "code",
   "execution_count": 31,
   "metadata": {},
   "outputs": [
    {
     "name": "stdout",
     "output_type": "stream",
     "text": [
      "Operation failed: database \"krannet\" already exists\n",
      "\n"
     ]
    }
   ],
   "source": [
    "# Env Variables\n",
    "DB_NAME = 'krannet'\n",
    "\n",
    "# Create DB\n",
    "create_db(DB_NAME)\n",
    "#drop_db(DB_NAME)"
   ]
  },
  {
   "cell_type": "markdown",
   "metadata": {},
   "source": [
    "## Create outer table"
   ]
  },
  {
   "cell_type": "code",
   "execution_count": 32,
   "metadata": {},
   "outputs": [
    {
     "name": "stdout",
     "output_type": "stream",
     "text": [
      "Transaction committed successfully.\n"
     ]
    }
   ],
   "source": [
    "query = f\"\"\" \n",
    "CREATE TABLE IF NOT EXISTS outer_table (\n",
    "id SERIAL PRIMARY KEY,\n",
    "title VARCHAR NOT NULL,\n",
    "year CHAR(4)\n",
    ")\n",
    "\"\"\"\n",
    "\n",
    "transition(query)"
   ]
  },
  {
   "cell_type": "code",
   "execution_count": 40,
   "metadata": {},
   "outputs": [
    {
     "name": "stdout",
     "output_type": "stream",
     "text": [
      "Transaction committed successfully.\n",
      "Transaction committed successfully.\n"
     ]
    }
   ],
   "source": [
    "# insert data into outher_table\n",
    "\n",
    "titles = ['meeting1', 'meeting2']\n",
    "years = [1990, 1990]\n",
    "\n",
    "for t, y in zip(titles, years):\n",
    "    query = 'INSERT INTO outer_table (title, year) VALUES (%s, %s)'\n",
    "    params = (t, y)\n",
    "    transition(query, params)"
   ]
  },
  {
   "cell_type": "code",
   "execution_count": 41,
   "metadata": {},
   "outputs": [
    {
     "name": "stderr",
     "output_type": "stream",
     "text": [
      "/var/folders/nv/ljsvt6pd7v526ds10294vq_w00011d/T/ipykernel_14414/2259759351.py:102: UserWarning: pandas only supports SQLAlchemy connectable (engine/connection) or database string URI or sqlite3 DBAPI2 connection. Other DBAPI2 objects are not tested. Please consider using SQLAlchemy.\n",
      "  df = pd.read_sql_query(query, connection)\n"
     ]
    },
    {
     "data": {
      "text/html": [
       "<div>\n",
       "<style scoped>\n",
       "    .dataframe tbody tr th:only-of-type {\n",
       "        vertical-align: middle;\n",
       "    }\n",
       "\n",
       "    .dataframe tbody tr th {\n",
       "        vertical-align: top;\n",
       "    }\n",
       "\n",
       "    .dataframe thead th {\n",
       "        text-align: right;\n",
       "    }\n",
       "</style>\n",
       "<table border=\"1\" class=\"dataframe\">\n",
       "  <thead>\n",
       "    <tr style=\"text-align: right;\">\n",
       "      <th></th>\n",
       "      <th>id</th>\n",
       "      <th>title</th>\n",
       "      <th>year</th>\n",
       "    </tr>\n",
       "  </thead>\n",
       "  <tbody>\n",
       "    <tr>\n",
       "      <th>0</th>\n",
       "      <td>1</td>\n",
       "      <td>meeting1</td>\n",
       "      <td>1990</td>\n",
       "    </tr>\n",
       "    <tr>\n",
       "      <th>1</th>\n",
       "      <td>2</td>\n",
       "      <td>meeting2</td>\n",
       "      <td>1990</td>\n",
       "    </tr>\n",
       "  </tbody>\n",
       "</table>\n",
       "</div>"
      ],
      "text/plain": [
       "   id     title  year\n",
       "0   1  meeting1  1990\n",
       "1   2  meeting2  1990"
      ]
     },
     "execution_count": 41,
     "metadata": {},
     "output_type": "execute_result"
    }
   ],
   "source": [
    "df = fetch_table_data(table_name='outer_table')\n",
    "df.head()"
   ]
  },
  {
   "cell_type": "markdown",
   "metadata": {},
   "source": [
    "## Create inner table"
   ]
  },
  {
   "cell_type": "code",
   "execution_count": null,
   "metadata": {},
   "outputs": [],
   "source": [
    "# create inner table with speaker and n. of interventions\n",
    "create_inner_table = f\"\"\" \n",
    "CREATE TABLE IF NOT EXISTS outer_table (\n",
    "id SERIAL PRIMARY KEY,\n",
    "speaker VARCHAR(50) NOT NULL,\n",
    "interventions SMALLINT NOT NULL\n",
    ")\n",
    "\"\"\"\n",
    "\n",
    "# TODO - Create the inner table to be connected to the outer table \n",
    "# MAYBE connecting id"
   ]
  }
 ],
 "metadata": {
  "kernelspec": {
   "display_name": ".venv",
   "language": "python",
   "name": "python3"
  },
  "language_info": {
   "codemirror_mode": {
    "name": "ipython",
    "version": 3
   },
   "file_extension": ".py",
   "mimetype": "text/x-python",
   "name": "python",
   "nbconvert_exporter": "python",
   "pygments_lexer": "ipython3",
   "version": "3.12.3"
  }
 },
 "nbformat": 4,
 "nbformat_minor": 2
}
